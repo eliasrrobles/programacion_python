{
  "nbformat": 4,
  "nbformat_minor": 0,
  "metadata": {
    "colab": {
      "provenance": []
    },
    "kernelspec": {
      "name": "python3",
      "display_name": "Python 3"
    },
    "language_info": {
      "name": "python"
    }
  },
  "cells": [
    {
      "cell_type": "markdown",
      "source": [
        "# Introducción a Python\n",
        "<img src=\"https://upload.wikimedia.org/wikipedia/commons/thumb/c/c3/Python-logo-notext.svg/1200px-Python-logo-notext.svg.png\" height=60 />\n",
        "\n",
        "<img src=\"https://upload.wikimedia.org/wikipedia/commons/thumb/3/38/Jupyter_logo.svg/1767px-Jupyter_logo.svg.png\" width=60 />\n",
        "<img src=\"https://colab.research.google.com/img/colab_favicon_256px.png\" height=70 />\n"
      ],
      "metadata": {
        "id": "Jjq3U2gsSUvP"
      }
    },
    {
      "cell_type": "markdown",
      "source": [
        "## ¡Hola Mundo!\n"
      ],
      "metadata": {
        "id": "-GLFzazBT6aP"
      }
    },
    {
      "cell_type": "markdown",
      "source": [
        "Mi primer programa en Python."
      ],
      "metadata": {
        "id": "3TkgqHSRUDq7"
      }
    },
    {
      "cell_type": "code",
      "source": [
        "print(\"¡Hola Mundo!\")"
      ],
      "metadata": {
        "colab": {
          "base_uri": "https://localhost:8080/"
        },
        "id": "rhLnQRF_T8Q4",
        "outputId": "29ade1e4-361c-4059-c77c-184f39e70652"
      },
      "execution_count": 2,
      "outputs": [
        {
          "output_type": "stream",
          "name": "stdout",
          "text": [
            "¡Hola Mundo!\n"
          ]
        }
      ]
    },
    {
      "cell_type": "markdown",
      "source": [
        "## Variables\n",
        "\n",
        "Los nombres de variables se escriben en formato *snake case*.\n",
        "\n",
        "Por ejemplo, sería correcto escribir `precio_sin_iva`.\n",
        "No sería correcto `precioSinIva`"
      ],
      "metadata": {
        "id": "ROGL6mTWUTRR"
      }
    },
    {
      "cell_type": "code",
      "source": [
        "x= 88\n",
        "print(x)\n",
        "print(type(x))"
      ],
      "metadata": {
        "colab": {
          "base_uri": "https://localhost:8080/"
        },
        "id": "OwSfVw9yUS5V",
        "outputId": "acfbc27f-1047-449a-db06-4d55f5110465"
      },
      "execution_count": 3,
      "outputs": [
        {
          "output_type": "stream",
          "name": "stdout",
          "text": [
            "88\n",
            "<class 'int'>\n"
          ]
        }
      ]
    },
    {
      "cell_type": "code",
      "source": [
        "pi = 3.141592654\n",
        "print(pi)\n",
        "print(type(pi))"
      ],
      "metadata": {
        "colab": {
          "base_uri": "https://localhost:8080/"
        },
        "id": "8rXHLoSZVP-g",
        "outputId": "0ebceb92-df0c-4d38-f213-7c5ae3f3f6a9"
      },
      "execution_count": 5,
      "outputs": [
        {
          "output_type": "stream",
          "name": "stdout",
          "text": [
            "3.141592654\n",
            "<class 'float'>\n"
          ]
        }
      ]
    },
    {
      "cell_type": "code",
      "source": [
        "fruta = \"mandarina\"\n",
        "print(fruta)\n",
        "print((fruta + \" \") * 7)"
      ],
      "metadata": {
        "colab": {
          "base_uri": "https://localhost:8080/"
        },
        "id": "0nLrNwOjVjIi",
        "outputId": "62d0081f-d4f2-4205-e2dd-1569f45119f5"
      },
      "execution_count": 9,
      "outputs": [
        {
          "output_type": "stream",
          "name": "stdout",
          "text": [
            "mandarina\n",
            "mandarina mandarina mandarina mandarina mandarina mandarina mandarina \n"
          ]
        }
      ]
    },
    {
      "cell_type": "code",
      "source": [
        "frutero = fruta * 5"
      ],
      "metadata": {
        "id": "2dxTjnPXWdQo"
      },
      "execution_count": 12,
      "outputs": []
    },
    {
      "cell_type": "code",
      "source": [
        "print(\"x vale:\", x)\n",
        "print(\"pi vale:\", pi)\n",
        "print(\"fruta vale:\", fruta)\n",
        "print(\"frutero vale:\", frutero)"
      ],
      "metadata": {
        "colab": {
          "base_uri": "https://localhost:8080/"
        },
        "id": "jI6t_QLlWIKl",
        "outputId": "78d211fb-ffb9-4d59-8b67-67375aa080bb"
      },
      "execution_count": 13,
      "outputs": [
        {
          "output_type": "stream",
          "name": "stdout",
          "text": [
            "x vale: 88\n",
            "pi vale: 3.141592654\n",
            "fruta vale: mandarina\n",
            "frutero vale: mandarinamandarinamandarinamandarinamandarina\n"
          ]
        }
      ]
    }
  ]
}