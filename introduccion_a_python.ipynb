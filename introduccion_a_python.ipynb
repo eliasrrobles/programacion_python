{
  "nbformat": 4,
  "nbformat_minor": 0,
  "metadata": {
    "colab": {
      "provenance": []
    },
    "kernelspec": {
      "name": "python3",
      "display_name": "Python 3"
    },
    "language_info": {
      "name": "python"
    }
  },
  "cells": [
    {
      "cell_type": "markdown",
      "source": [
        "# Introducción a Python\n",
        "<img src=\"https://upload.wikimedia.org/wikipedia/commons/thumb/c/c3/Python-logo-notext.svg/1200px-Python-logo-notext.svg.png\" height=60 />\n",
        "\n",
        "<img src=\"https://upload.wikimedia.org/wikipedia/commons/thumb/3/38/Jupyter_logo.svg/1767px-Jupyter_logo.svg.png\" width=60 />\n",
        "<img src=\"https://colab.research.google.com/img/colab_favicon_256px.png\" height=70 />\n"
      ],
      "metadata": {
        "id": "Jjq3U2gsSUvP"
      }
    },
    {
      "cell_type": "markdown",
      "source": [
        "## ¡Hola Mundo!\n"
      ],
      "metadata": {
        "id": "-GLFzazBT6aP"
      }
    },
    {
      "cell_type": "markdown",
      "source": [
        "Mi primer programa en Python."
      ],
      "metadata": {
        "id": "3TkgqHSRUDq7"
      }
    },
    {
      "cell_type": "code",
      "source": [
        "print(\"¡Hola Mundo!\")"
      ],
      "metadata": {
        "colab": {
          "base_uri": "https://localhost:8080/"
        },
        "id": "rhLnQRF_T8Q4",
        "outputId": "fe9f197c-ce99-4078-e26f-431d02e94c16"
      },
      "execution_count": 104,
      "outputs": [
        {
          "output_type": "stream",
          "name": "stdout",
          "text": [
            "¡Hola Mundo!\n"
          ]
        }
      ]
    },
    {
      "cell_type": "markdown",
      "source": [
        "## Variables\n",
        "\n",
        "Los nombres de variables se escriben en formato *snake case*.\n",
        "\n",
        "Por ejemplo, sería correcto escribir `precio_sin_iva`.\n",
        "No sería correcto `precioSinIva`"
      ],
      "metadata": {
        "id": "ROGL6mTWUTRR"
      }
    },
    {
      "cell_type": "code",
      "source": [
        "x= 88\n",
        "print(x)\n",
        "print(type(x))"
      ],
      "metadata": {
        "colab": {
          "base_uri": "https://localhost:8080/"
        },
        "id": "OwSfVw9yUS5V",
        "outputId": "5a631dfc-4c0d-4b0e-fd0c-9cb077f69d2c"
      },
      "execution_count": 105,
      "outputs": [
        {
          "output_type": "stream",
          "name": "stdout",
          "text": [
            "88\n",
            "<class 'int'>\n"
          ]
        }
      ]
    },
    {
      "cell_type": "code",
      "source": [
        "pi = 3.141592654\n",
        "print(pi)\n",
        "print(type(pi))"
      ],
      "metadata": {
        "colab": {
          "base_uri": "https://localhost:8080/"
        },
        "id": "8rXHLoSZVP-g",
        "outputId": "fe000a4b-7587-4925-b316-9ce3cba3f0e1"
      },
      "execution_count": 106,
      "outputs": [
        {
          "output_type": "stream",
          "name": "stdout",
          "text": [
            "3.141592654\n",
            "<class 'float'>\n"
          ]
        }
      ]
    },
    {
      "cell_type": "code",
      "source": [
        "fruta = \"mandarina\"\n",
        "print(fruta)\n",
        "print((fruta + \" \") * 7)"
      ],
      "metadata": {
        "colab": {
          "base_uri": "https://localhost:8080/"
        },
        "id": "0nLrNwOjVjIi",
        "outputId": "7cbde1ad-fde1-4d03-cd55-617f15790b70"
      },
      "execution_count": 107,
      "outputs": [
        {
          "output_type": "stream",
          "name": "stdout",
          "text": [
            "mandarina\n",
            "mandarina mandarina mandarina mandarina mandarina mandarina mandarina \n"
          ]
        }
      ]
    },
    {
      "cell_type": "code",
      "source": [
        "frutero = fruta * 5"
      ],
      "metadata": {
        "id": "2dxTjnPXWdQo"
      },
      "execution_count": 108,
      "outputs": []
    },
    {
      "cell_type": "code",
      "source": [
        "print(\"x vale:\", x)\n",
        "print(\"pi vale:\", pi)\n",
        "print(\"fruta vale:\", fruta)\n",
        "print(\"frutero vale:\", frutero)"
      ],
      "metadata": {
        "colab": {
          "base_uri": "https://localhost:8080/"
        },
        "id": "jI6t_QLlWIKl",
        "outputId": "0a7e36aa-45c4-4bae-c458-22b5afd20fc0"
      },
      "execution_count": 109,
      "outputs": [
        {
          "output_type": "stream",
          "name": "stdout",
          "text": [
            "x vale: 88\n",
            "pi vale: 3.141592654\n",
            "fruta vale: mandarina\n",
            "frutero vale: mandarinamandarinamandarinamandarinamandarina\n"
          ]
        }
      ]
    },
    {
      "cell_type": "markdown",
      "source": [
        "## Operadores"
      ],
      "metadata": {
        "id": "0AmuiU42RdPm"
      }
    },
    {
      "cell_type": "code",
      "source": [
        "print(x + pi)\n",
        "print(x * pi)\n",
        "print(x ** 2)\n",
        "dos_frutas = fruta + fruta\n",
        "frutero = fruta * 5\n",
        "print(dos_frutas)\n",
        "print(frutero)"
      ],
      "metadata": {
        "colab": {
          "base_uri": "https://localhost:8080/"
        },
        "id": "2pM_yChyRg50",
        "outputId": "a3ff0c9f-fa57-4e97-9f82-cd9c3d0a6c8b"
      },
      "execution_count": 110,
      "outputs": [
        {
          "output_type": "stream",
          "name": "stdout",
          "text": [
            "91.141592654\n",
            "276.460153552\n",
            "7744\n",
            "mandarinamandarina\n",
            "mandarinamandarinamandarinamandarinamandarina\n"
          ]
        }
      ]
    },
    {
      "cell_type": "code",
      "source": [
        "print(7 / 2) # división con decimales\n",
        "print(7 // 2) # división entera\n",
        "print(7 % 2) # módulo/resto de una división"
      ],
      "metadata": {
        "colab": {
          "base_uri": "https://localhost:8080/"
        },
        "id": "Dk_NirUxR9FQ",
        "outputId": "a3f2a5ff-90dd-488a-c78e-0df004bdf79b"
      },
      "execution_count": 111,
      "outputs": [
        {
          "output_type": "stream",
          "name": "stdout",
          "text": [
            "3.5\n",
            "3\n",
            "1\n"
          ]
        }
      ]
    },
    {
      "cell_type": "code",
      "source": [
        "print(f\"La variable x multiplicada por pi vale {x * pi:.2f}.\")"
      ],
      "metadata": {
        "colab": {
          "base_uri": "https://localhost:8080/"
        },
        "id": "BFtOlqU5StFw",
        "outputId": "f8452c4f-5ef8-426e-ae2c-77b09099abce"
      },
      "execution_count": 112,
      "outputs": [
        {
          "output_type": "stream",
          "name": "stdout",
          "text": [
            "La variable x multiplicada por pi vale 276.46.\n"
          ]
        }
      ]
    },
    {
      "cell_type": "markdown",
      "source": [
        "## Lista\n",
        "\n",
        "El índice, como en la mayoría de los lenguajes de programación, comienza en 0."
      ],
      "metadata": {
        "id": "lFRCPqKvTV3I"
      }
    },
    {
      "cell_type": "markdown",
      "source": [],
      "metadata": {
        "id": "HO59T-E4UWBt"
      }
    },
    {
      "cell_type": "markdown",
      "source": [],
      "metadata": {
        "id": "G3MwkmIrUWOz"
      }
    },
    {
      "cell_type": "code",
      "source": [
        "frutas = [\"manzana\", \"pera\", \"melocotón\", \"chirimoya\", \"caqui\", \"ciruela\", \"naranja\", \"mango\"]"
      ],
      "metadata": {
        "id": "nrbLIASNT2Mz"
      },
      "execution_count": 113,
      "outputs": []
    },
    {
      "cell_type": "code",
      "source": [
        "print(frutas)"
      ],
      "metadata": {
        "colab": {
          "base_uri": "https://localhost:8080/"
        },
        "id": "IGafSJLSUHHH",
        "outputId": "ac8f25d7-7a90-4894-a97c-72c9a0a61fbc"
      },
      "execution_count": 114,
      "outputs": [
        {
          "output_type": "stream",
          "name": "stdout",
          "text": [
            "['manzana', 'pera', 'melocotón', 'chirimoya', 'caqui', 'ciruela', 'naranja', 'mango']\n"
          ]
        }
      ]
    },
    {
      "cell_type": "code",
      "source": [
        "len(frutas)"
      ],
      "metadata": {
        "colab": {
          "base_uri": "https://localhost:8080/"
        },
        "id": "MEE63wBNUcTG",
        "outputId": "658c513e-b107-4048-934b-201fb7b70c2f"
      },
      "execution_count": 115,
      "outputs": [
        {
          "output_type": "execute_result",
          "data": {
            "text/plain": [
              "8"
            ]
          },
          "metadata": {},
          "execution_count": 115
        }
      ]
    },
    {
      "cell_type": "code",
      "source": [
        "frutas[0]"
      ],
      "metadata": {
        "colab": {
          "base_uri": "https://localhost:8080/",
          "height": 35
        },
        "id": "BjEjjcw8Us2Q",
        "outputId": "75e91f4a-1450-497d-e180-b66c2ccae657"
      },
      "execution_count": 116,
      "outputs": [
        {
          "output_type": "execute_result",
          "data": {
            "text/plain": [
              "'manzana'"
            ],
            "application/vnd.google.colaboratory.intrinsic+json": {
              "type": "string"
            }
          },
          "metadata": {},
          "execution_count": 116
        }
      ]
    },
    {
      "cell_type": "code",
      "source": [
        "frutas[1:3]"
      ],
      "metadata": {
        "colab": {
          "base_uri": "https://localhost:8080/"
        },
        "id": "CXF6Cx1VU-3v",
        "outputId": "419446f7-1074-418f-f53c-38106dd7573c"
      },
      "execution_count": 117,
      "outputs": [
        {
          "output_type": "execute_result",
          "data": {
            "text/plain": [
              "['pera', 'melocotón']"
            ]
          },
          "metadata": {},
          "execution_count": 117
        }
      ]
    },
    {
      "cell_type": "code",
      "source": [
        "frutas[-1]"
      ],
      "metadata": {
        "colab": {
          "base_uri": "https://localhost:8080/",
          "height": 35
        },
        "id": "KKh9psA1VP3O",
        "outputId": "741a781a-c3b7-4bac-df2a-1d04ad1556b2"
      },
      "execution_count": 118,
      "outputs": [
        {
          "output_type": "execute_result",
          "data": {
            "text/plain": [
              "'mango'"
            ],
            "application/vnd.google.colaboratory.intrinsic+json": {
              "type": "string"
            }
          },
          "metadata": {},
          "execution_count": 118
        }
      ]
    },
    {
      "cell_type": "code",
      "source": [
        "frutas[-3]"
      ],
      "metadata": {
        "colab": {
          "base_uri": "https://localhost:8080/",
          "height": 35
        },
        "id": "aDpyUkcJVbSW",
        "outputId": "128e4884-d832-4f0a-d602-571d3d884ca3"
      },
      "execution_count": 119,
      "outputs": [
        {
          "output_type": "execute_result",
          "data": {
            "text/plain": [
              "'ciruela'"
            ],
            "application/vnd.google.colaboratory.intrinsic+json": {
              "type": "string"
            }
          },
          "metadata": {},
          "execution_count": 119
        }
      ]
    },
    {
      "cell_type": "code",
      "source": [
        "print(frutas)"
      ],
      "metadata": {
        "colab": {
          "base_uri": "https://localhost:8080/"
        },
        "id": "ts1x3iliVe8T",
        "outputId": "85ce1b83-c0f9-4190-a17c-050da37d600f"
      },
      "execution_count": 120,
      "outputs": [
        {
          "output_type": "stream",
          "name": "stdout",
          "text": [
            "['manzana', 'pera', 'melocotón', 'chirimoya', 'caqui', 'ciruela', 'naranja', 'mango']\n"
          ]
        }
      ]
    },
    {
      "cell_type": "code",
      "source": [
        "print(frutas[-1:-4])"
      ],
      "metadata": {
        "colab": {
          "base_uri": "https://localhost:8080/"
        },
        "id": "D-4pbO2SViEU",
        "outputId": "cf2bf92b-7a3d-4ea2-d29f-65430c7c8db6"
      },
      "execution_count": 121,
      "outputs": [
        {
          "output_type": "stream",
          "name": "stdout",
          "text": [
            "[]\n"
          ]
        }
      ]
    },
    {
      "cell_type": "code",
      "source": [
        "print(frutas[1:-2])"
      ],
      "metadata": {
        "colab": {
          "base_uri": "https://localhost:8080/"
        },
        "id": "oXtLwIviWNy-",
        "outputId": "190bdc95-97ef-415e-a92e-156665b2fb11"
      },
      "execution_count": 122,
      "outputs": [
        {
          "output_type": "stream",
          "name": "stdout",
          "text": [
            "['pera', 'melocotón', 'chirimoya', 'caqui', 'ciruela']\n"
          ]
        }
      ]
    },
    {
      "cell_type": "code",
      "source": [
        "frutas[3:]"
      ],
      "metadata": {
        "colab": {
          "base_uri": "https://localhost:8080/"
        },
        "id": "9ZfQM93pW1J5",
        "outputId": "da70c8de-219a-4586-9b39-f2d874dca097"
      },
      "execution_count": 123,
      "outputs": [
        {
          "output_type": "execute_result",
          "data": {
            "text/plain": [
              "['chirimoya', 'caqui', 'ciruela', 'naranja', 'mango']"
            ]
          },
          "metadata": {},
          "execution_count": 123
        }
      ]
    },
    {
      "cell_type": "code",
      "source": [
        "frutas[:2]"
      ],
      "metadata": {
        "colab": {
          "base_uri": "https://localhost:8080/"
        },
        "id": "PboyL4HOW76L",
        "outputId": "9a2b4f7f-c01a-4b4e-b6d2-637e385d5af5"
      },
      "execution_count": 124,
      "outputs": [
        {
          "output_type": "execute_result",
          "data": {
            "text/plain": [
              "['manzana', 'pera']"
            ]
          },
          "metadata": {},
          "execution_count": 124
        }
      ]
    },
    {
      "cell_type": "code",
      "source": [
        "fruta[:4]"
      ],
      "metadata": {
        "colab": {
          "base_uri": "https://localhost:8080/",
          "height": 35
        },
        "id": "D5HmptnmXFgl",
        "outputId": "b5682738-92ab-4cef-ed7e-2c6ea9eb3b1c"
      },
      "execution_count": 125,
      "outputs": [
        {
          "output_type": "execute_result",
          "data": {
            "text/plain": [
              "'mand'"
            ],
            "application/vnd.google.colaboratory.intrinsic+json": {
              "type": "string"
            }
          },
          "metadata": {},
          "execution_count": 125
        }
      ]
    },
    {
      "cell_type": "code",
      "source": [
        "\"caqui\" in frutas"
      ],
      "metadata": {
        "colab": {
          "base_uri": "https://localhost:8080/"
        },
        "id": "feUzqWXtXTTB",
        "outputId": "2df19aaa-6ba4-4313-fff7-7684bc2880c5"
      },
      "execution_count": 126,
      "outputs": [
        {
          "output_type": "execute_result",
          "data": {
            "text/plain": [
              "True"
            ]
          },
          "metadata": {},
          "execution_count": 126
        }
      ]
    },
    {
      "cell_type": "code",
      "source": [
        "\"melón\" in frutas"
      ],
      "metadata": {
        "colab": {
          "base_uri": "https://localhost:8080/"
        },
        "id": "ro4M7GbOXWN3",
        "outputId": "0023d5bb-2302-4793-b185-e1c616dc862b"
      },
      "execution_count": 127,
      "outputs": [
        {
          "output_type": "execute_result",
          "data": {
            "text/plain": [
              "False"
            ]
          },
          "metadata": {},
          "execution_count": 127
        }
      ]
    },
    {
      "cell_type": "code",
      "source": [
        "frutas.index(\"pera\")"
      ],
      "metadata": {
        "colab": {
          "base_uri": "https://localhost:8080/"
        },
        "id": "b2sBIqwFXjOR",
        "outputId": "84771e3b-64f3-4c52-8d8f-e6b296f22e79"
      },
      "execution_count": 128,
      "outputs": [
        {
          "output_type": "execute_result",
          "data": {
            "text/plain": [
              "1"
            ]
          },
          "metadata": {},
          "execution_count": 128
        }
      ]
    },
    {
      "cell_type": "markdown",
      "source": [
        "## Diccionarios"
      ],
      "metadata": {
        "id": "E3cniny8X5X5"
      }
    },
    {
      "cell_type": "code",
      "source": [
        "puntos_brisca = {\n",
        "    \"as\": 11,\n",
        "    \"dos\":0,\n",
        "    \"tres\": 10,\n",
        "    \"cuatro\": 0,\n",
        "    \"cinco\": 0,\n",
        "    \"seis\": 0,\n",
        "    \"siete\":0,\n",
        "    \"sota\": 2,\n",
        "    \"caballo\": 3,\n",
        "    \"rey\": 4\n",
        "}"
      ],
      "metadata": {
        "id": "9rsgGiD5X-jo"
      },
      "execution_count": 129,
      "outputs": []
    },
    {
      "cell_type": "code",
      "source": [
        "puntos_brisca[\"caballo\"]"
      ],
      "metadata": {
        "colab": {
          "base_uri": "https://localhost:8080/"
        },
        "id": "tSFehKehZAYQ",
        "outputId": "17b37497-a273-48e6-ca9f-21079d824c55"
      },
      "execution_count": 130,
      "outputs": [
        {
          "output_type": "execute_result",
          "data": {
            "text/plain": [
              "3"
            ]
          },
          "metadata": {},
          "execution_count": 130
        }
      ]
    },
    {
      "cell_type": "code",
      "source": [
        "puntos_brisca.keys()"
      ],
      "metadata": {
        "colab": {
          "base_uri": "https://localhost:8080/"
        },
        "id": "SN8i0GJHZG6z",
        "outputId": "daa3c965-a01b-4388-ec95-d0d87f6eae69"
      },
      "execution_count": 131,
      "outputs": [
        {
          "output_type": "execute_result",
          "data": {
            "text/plain": [
              "dict_keys(['as', 'dos', 'tres', 'cuatro', 'cinco', 'seis', 'siete', 'sota', 'caballo', 'rey'])"
            ]
          },
          "metadata": {},
          "execution_count": 131
        }
      ]
    },
    {
      "cell_type": "code",
      "source": [
        "puntos_brisca.values()"
      ],
      "metadata": {
        "colab": {
          "base_uri": "https://localhost:8080/"
        },
        "id": "YmCaI_d6ZZay",
        "outputId": "4bcfb36a-c0aa-4283-bf44-46f3f2be28e8"
      },
      "execution_count": 132,
      "outputs": [
        {
          "output_type": "execute_result",
          "data": {
            "text/plain": [
              "dict_values([11, 0, 10, 0, 0, 0, 0, 2, 3, 4])"
            ]
          },
          "metadata": {},
          "execution_count": 132
        }
      ]
    },
    {
      "cell_type": "code",
      "source": [
        "puntos_brisca[\"comodin\"]=0"
      ],
      "metadata": {
        "id": "j1KFDGobZnE4"
      },
      "execution_count": 133,
      "outputs": []
    },
    {
      "cell_type": "code",
      "source": [
        "puntos_brisca"
      ],
      "metadata": {
        "colab": {
          "base_uri": "https://localhost:8080/"
        },
        "id": "n_1vvjUlaHw9",
        "outputId": "6bb267aa-72fe-42bb-e363-43cdb9632577"
      },
      "execution_count": 134,
      "outputs": [
        {
          "output_type": "execute_result",
          "data": {
            "text/plain": [
              "{'as': 11,\n",
              " 'dos': 0,\n",
              " 'tres': 10,\n",
              " 'cuatro': 0,\n",
              " 'cinco': 0,\n",
              " 'seis': 0,\n",
              " 'siete': 0,\n",
              " 'sota': 2,\n",
              " 'caballo': 3,\n",
              " 'rey': 4,\n",
              " 'comodin': 0}"
            ]
          },
          "metadata": {},
          "execution_count": 134
        }
      ]
    },
    {
      "cell_type": "markdown",
      "source": [
        "## Sentencia condicional\n",
        "¡Ojo con la tabulación!"
      ],
      "metadata": {
        "id": "Cynu_h2AaLjY"
      }
    },
    {
      "cell_type": "code",
      "source": [
        "x = 89\n",
        "\n",
        "if x == 88:\n",
        "  print(\"La variable vale 88\")\n",
        "else:\n",
        "  print(\"La variable no vale 88\")"
      ],
      "metadata": {
        "colab": {
          "base_uri": "https://localhost:8080/"
        },
        "id": "hyErN0NYaTTI",
        "outputId": "1ee2b390-648b-483c-ffa9-c4e6fc57c3c2"
      },
      "execution_count": 135,
      "outputs": [
        {
          "output_type": "stream",
          "name": "stdout",
          "text": [
            "La variable no vale 88\n"
          ]
        }
      ]
    },
    {
      "cell_type": "code",
      "source": [
        "edad = int(input(\"Escribe tu edad: \"))\n",
        "\n",
        "if edad < 18:\n",
        "  print(\"A tu casa a ver Pocoyo\")\n",
        "elif edad < 24:\n",
        "  print(\"Estudía alguna profesion\")\n",
        "elif edad < 66:\n",
        "  print(\"A trabajar\")\n",
        "else:\n",
        "  print(\"¿Te gusta mirar las obras de tu barrio?\")"
      ],
      "metadata": {
        "colab": {
          "base_uri": "https://localhost:8080/"
        },
        "id": "34VrNMOobHQn",
        "outputId": "d03efcc2-e132-4a6c-c140-b0de731d9939"
      },
      "execution_count": 136,
      "outputs": [
        {
          "output_type": "stream",
          "name": "stdout",
          "text": [
            "Escribe tu edad: 88\n",
            "¿Te gusta mirar las obras de tu barrio?\n"
          ]
        }
      ]
    },
    {
      "cell_type": "code",
      "source": [
        "dia = input(\"Dime un dia de la semana: \").lower()\n",
        "\n",
        "cadena = \"Ese día a primera hora toca \"\n",
        "\n",
        "match dia:\n",
        "  case \"lunes\":\n",
        "    print(cadena +\"IA\")\n",
        "  case \"martes\":\n",
        "    print(cadena +\"IA\")\n",
        "  case \"jueves\":\n",
        "    print(cadena +\"Big Data\")\n",
        "  case \"viernes\":\n",
        "    print(cadena +\"IA\")\n",
        "  case \"sabado\":\n",
        "    print(\"Dia libre\")\n",
        "  case \"domingo\":\n",
        "    print(\"Dia libre\")\n",
        "  case _:\n",
        "    print(\"ese dia no existe\")"
      ],
      "metadata": {
        "colab": {
          "base_uri": "https://localhost:8080/"
        },
        "id": "X0O39xTffWU0",
        "outputId": "779de149-8e1d-48e7-8a0d-6cec9b183da0"
      },
      "execution_count": 139,
      "outputs": [
        {
          "output_type": "stream",
          "name": "stdout",
          "text": [
            "Dime un dia de la semana: sabado\n",
            "Dia libre\n"
          ]
        }
      ]
    },
    {
      "cell_type": "markdown",
      "source": [
        "## Bucles"
      ],
      "metadata": {
        "id": "s7Wk9wSTdcTA"
      }
    },
    {
      "cell_type": "code",
      "source": [
        "for i in range(10):\n",
        "  print(i)"
      ],
      "metadata": {
        "id": "Ef7r9pvLdb1k"
      },
      "execution_count": null,
      "outputs": []
    },
    {
      "cell_type": "code",
      "source": [
        "for i in range(1,12):\n",
        "  print(i)"
      ],
      "metadata": {
        "id": "Cg5wNw3cc_-I"
      },
      "execution_count": null,
      "outputs": []
    },
    {
      "cell_type": "code",
      "source": [
        "for i in range(0,11,2):\n",
        "  print(i)"
      ],
      "metadata": {
        "id": "6XPI5seMdrJd"
      },
      "execution_count": null,
      "outputs": []
    },
    {
      "cell_type": "code",
      "source": [
        "# evitar recorrer un iterable con range\n",
        "for i in range(len(frutas)):\n",
        "  print(frutas[i])"
      ],
      "metadata": {
        "id": "DU_oewT9d1ZS"
      },
      "execution_count": null,
      "outputs": []
    },
    {
      "cell_type": "code",
      "source": [
        "for f in frutas:\n",
        "  print(\"Me gusta el zumo de\",f)"
      ],
      "metadata": {
        "id": "4laML5xSeIGB"
      },
      "execution_count": null,
      "outputs": []
    },
    {
      "cell_type": "code",
      "source": [
        "n = 0\n",
        "while n < 10:\n",
        "  print(n)\n",
        "  n += 1; # no existe n++😿"
      ],
      "metadata": {
        "id": "XUc-JQSsehxa"
      },
      "execution_count": null,
      "outputs": []
    },
    {
      "cell_type": "markdown",
      "source": [
        "## Funciones\n",
        "\n",
        "Normalmente las funciones devuelven un valor (o varios), aunque pueden no devolver nada, únicamente realizar ciertas acciones."
      ],
      "metadata": {
        "id": "ag4EXpK5iZOp"
      }
    },
    {
      "cell_type": "code",
      "source": [
        "def saluda():\n",
        "  print(\"hola\")"
      ],
      "metadata": {
        "id": "wD38Lh7bjEpI"
      },
      "execution_count": 141,
      "outputs": []
    },
    {
      "cell_type": "code",
      "source": [
        "saluda()"
      ],
      "metadata": {
        "colab": {
          "base_uri": "https://localhost:8080/"
        },
        "id": "G6o479uojQIF",
        "outputId": "2932355d-e8be-43e4-c132-59c0625215ac"
      },
      "execution_count": 142,
      "outputs": [
        {
          "output_type": "stream",
          "name": "stdout",
          "text": [
            "hola\n"
          ]
        }
      ]
    },
    {
      "cell_type": "code",
      "source": [
        "def saluda(nombre):\n",
        "  print(f\"Hola, {nombre}\")"
      ],
      "metadata": {
        "id": "jp5PCnEMkOL9"
      },
      "execution_count": 143,
      "outputs": []
    },
    {
      "cell_type": "code",
      "source": [
        "saluda(\"Pepe\")"
      ],
      "metadata": {
        "colab": {
          "base_uri": "https://localhost:8080/"
        },
        "id": "45UYI2kGkaw1",
        "outputId": "f5a8d247-3135-435b-e41a-198e160b9d9a"
      },
      "execution_count": 147,
      "outputs": [
        {
          "output_type": "stream",
          "name": "stdout",
          "text": [
            "Hola, Pepe\n"
          ]
        }
      ]
    }
  ]
}